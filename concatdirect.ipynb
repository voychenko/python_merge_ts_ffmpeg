{
 "cells": [
  {
   "cell_type": "code",
   "execution_count": 1,
   "metadata": {},
   "outputs": [],
   "source": [
    "import requests\n",
    "import warnings\n",
    "import easygui\n",
    "import os \n",
    "from ipywidgets import IntProgress\n",
    "from IPython.display import display\n",
    "warnings.filterwarnings('ignore')"
   ]
  },
  {
   "cell_type": "code",
   "execution_count": null,
   "metadata": {},
   "outputs": [],
   "source": [
    "ENDFILE=\"#EXT-X-ENDLIST\"\n",
    "file_name_m3=easygui.fileopenbox()\n",
    "Progress_Bar_Widget = IntProgress(min=0, max=100) # instantiate the bar\n",
    "display(Progress_Bar_Widget) # display the bar\n",
    "f2 = open(file_name_m3,\"r\")\n",
    "file_from_size= os.path.getsize(file_name_m3)  \n",
    "line_from_file=\"\"\n",
    "file_destination = open(\"test.ts\",\"ab\")\n",
    "while line_from_file!=ENDFILE:\n",
    "    Progress_Bar_Widget.value=int(f2.tell()/file_from_size*100)\n",
    "    line_from_file=f2.readline()\n",
    "    if line_from_file.find(\"http\")<0:\n",
    "        continue\n",
    "    else:\n",
    "        r = requests.get(line_from_file, auth=('usrname', 'password'), verify=False,stream=True)\n",
    "        file_destination.write(r.content)\n",
    "file_destination.close()"
   ]
  },
  {
   "cell_type": "code",
   "execution_count": null,
   "metadata": {},
   "outputs": [],
   "source": []
  },
  {
   "cell_type": "code",
   "execution_count": null,
   "metadata": {},
   "outputs": [],
   "source": []
  }
 ],
 "metadata": {
  "kernelspec": {
   "display_name": "Python 3",
   "language": "python",
   "name": "python3"
  },
  "language_info": {
   "codemirror_mode": {
    "name": "ipython",
    "version": 3
   },
   "file_extension": ".py",
   "mimetype": "text/x-python",
   "name": "python",
   "nbconvert_exporter": "python",
   "pygments_lexer": "ipython3",
   "version": "3.8.3"
  }
 },
 "nbformat": 4,
 "nbformat_minor": 4
}
